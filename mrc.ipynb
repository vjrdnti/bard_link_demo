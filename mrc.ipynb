{
 "cells": [
  {
   "cell_type": "code",
   "execution_count": 1,
   "metadata": {},
   "outputs": [],
   "source": [
    "import pandas as pd\n",
    "import numpy as np\n",
    "from transformers import BertTokenizer, BertForQuestionAnswering\n",
    "import torch"
   ]
  },
  {
   "cell_type": "code",
   "execution_count": 2,
   "metadata": {},
   "outputs": [],
   "source": [
    "data = pd.read_csv(\"exec.csv\")"
   ]
  },
  {
   "cell_type": "code",
   "execution_count": 3,
   "metadata": {},
   "outputs": [
    {
     "data": {
      "text/plain": [
       "Index(['Unnamed: 0', 'id', 'question', 'context', 'context_id', 'answer_start',\n",
       "       'answer_text'],\n",
       "      dtype='object')"
      ]
     },
     "execution_count": 3,
     "metadata": {},
     "output_type": "execute_result"
    }
   ],
   "source": [
    "data.columns"
   ]
  },
  {
   "cell_type": "code",
   "execution_count": 4,
   "metadata": {},
   "outputs": [],
   "source": [
    "data = data.drop(columns='Unnamed: 0')"
   ]
  },
  {
   "cell_type": "code",
   "execution_count": 5,
   "metadata": {},
   "outputs": [],
   "source": [
    "tokenizer = BertTokenizer.from_pretrained(\"bert-base-uncased\")"
   ]
  },
  {
   "cell_type": "code",
   "execution_count": 6,
   "metadata": {},
   "outputs": [
    {
     "data": {
      "text/html": [
       "<div>\n",
       "<style scoped>\n",
       "    .dataframe tbody tr th:only-of-type {\n",
       "        vertical-align: middle;\n",
       "    }\n",
       "\n",
       "    .dataframe tbody tr th {\n",
       "        vertical-align: top;\n",
       "    }\n",
       "\n",
       "    .dataframe thead th {\n",
       "        text-align: right;\n",
       "    }\n",
       "</style>\n",
       "<table border=\"1\" class=\"dataframe\">\n",
       "  <thead>\n",
       "    <tr style=\"text-align: right;\">\n",
       "      <th></th>\n",
       "      <th>id</th>\n",
       "      <th>question</th>\n",
       "      <th>context</th>\n",
       "      <th>context_id</th>\n",
       "      <th>answer_start</th>\n",
       "      <th>answer_text</th>\n",
       "    </tr>\n",
       "  </thead>\n",
       "  <tbody>\n",
       "    <tr>\n",
       "      <th>0</th>\n",
       "      <td>5733be284776f41900661182</td>\n",
       "      <td>To whom did the Virgin Mary allegedly appear i...</td>\n",
       "      <td>Architecturally, the school has a Catholic cha...</td>\n",
       "      <td>0</td>\n",
       "      <td>515</td>\n",
       "      <td>Saint Bernadette Soubirous</td>\n",
       "    </tr>\n",
       "    <tr>\n",
       "      <th>1</th>\n",
       "      <td>5733bf84d058e614000b61be</td>\n",
       "      <td>When did the Scholastic Magazine of Notre dame...</td>\n",
       "      <td>As at most other universities, Notre Dame's st...</td>\n",
       "      <td>1</td>\n",
       "      <td>248</td>\n",
       "      <td>September 1876</td>\n",
       "    </tr>\n",
       "    <tr>\n",
       "      <th>2</th>\n",
       "      <td>5733bed24776f41900661188</td>\n",
       "      <td>Where is the headquarters of the Congregation ...</td>\n",
       "      <td>The university is the major seat of the Congre...</td>\n",
       "      <td>2</td>\n",
       "      <td>119</td>\n",
       "      <td>Rome</td>\n",
       "    </tr>\n",
       "    <tr>\n",
       "      <th>3</th>\n",
       "      <td>5733a6424776f41900660f51</td>\n",
       "      <td>How many BS level degrees are offered in the C...</td>\n",
       "      <td>The College of Engineering was established in ...</td>\n",
       "      <td>3</td>\n",
       "      <td>487</td>\n",
       "      <td>eight</td>\n",
       "    </tr>\n",
       "    <tr>\n",
       "      <th>4</th>\n",
       "      <td>5733a70c4776f41900660f64</td>\n",
       "      <td>What entity provides help with the management ...</td>\n",
       "      <td>All of Notre Dame's undergraduate students are...</td>\n",
       "      <td>4</td>\n",
       "      <td>496</td>\n",
       "      <td>Learning Resource Center</td>\n",
       "    </tr>\n",
       "    <tr>\n",
       "      <th>...</th>\n",
       "      <td>...</td>\n",
       "      <td>...</td>\n",
       "      <td>...</td>\n",
       "      <td>...</td>\n",
       "      <td>...</td>\n",
       "      <td>...</td>\n",
       "    </tr>\n",
       "    <tr>\n",
       "      <th>819</th>\n",
       "      <td>57324bd1b9d445190005e9de</td>\n",
       "      <td>How often did Jehovah Witnesses congregations ...</td>\n",
       "      <td>Meetings for worship and study are held at Kin...</td>\n",
       "      <td>18479</td>\n",
       "      <td>779</td>\n",
       "      <td>three times each week</td>\n",
       "    </tr>\n",
       "    <tr>\n",
       "      <th>820</th>\n",
       "      <td>573255bce99e3014001e66d8</td>\n",
       "      <td>When did NYC buy land for its parks?</td>\n",
       "      <td>The northern side of the borough includes the ...</td>\n",
       "      <td>18610</td>\n",
       "      <td>1240</td>\n",
       "      <td>1888</td>\n",
       "    </tr>\n",
       "    <tr>\n",
       "      <th>821</th>\n",
       "      <td>5732a488d6dcfa19001e8a5b</td>\n",
       "      <td>Who quoted the line of Terence most notably?</td>\n",
       "      <td>The ad fontes principle also had many applicat...</td>\n",
       "      <td>18678</td>\n",
       "      <td>1035</td>\n",
       "      <td>Seneca</td>\n",
       "    </tr>\n",
       "    <tr>\n",
       "      <th>822</th>\n",
       "      <td>5735a9fbe853931400426ab2</td>\n",
       "      <td>What is the Kathmandu Valley's average tempera...</td>\n",
       "      <td>Five major climatic regions are found in Nepal...</td>\n",
       "      <td>18847</td>\n",
       "      <td>749</td>\n",
       "      <td>50.2</td>\n",
       "    </tr>\n",
       "    <tr>\n",
       "      <th>823</th>\n",
       "      <td>5735ba07dc94161900571f52</td>\n",
       "      <td>What religion does Changunarayan belong to?</td>\n",
       "      <td>The ancient trade route between India and Tibe...</td>\n",
       "      <td>18859</td>\n",
       "      <td>848</td>\n",
       "      <td>Hindu</td>\n",
       "    </tr>\n",
       "  </tbody>\n",
       "</table>\n",
       "<p>824 rows × 6 columns</p>\n",
       "</div>"
      ],
      "text/plain": [
       "                           id  \\\n",
       "0    5733be284776f41900661182   \n",
       "1    5733bf84d058e614000b61be   \n",
       "2    5733bed24776f41900661188   \n",
       "3    5733a6424776f41900660f51   \n",
       "4    5733a70c4776f41900660f64   \n",
       "..                        ...   \n",
       "819  57324bd1b9d445190005e9de   \n",
       "820  573255bce99e3014001e66d8   \n",
       "821  5732a488d6dcfa19001e8a5b   \n",
       "822  5735a9fbe853931400426ab2   \n",
       "823  5735ba07dc94161900571f52   \n",
       "\n",
       "                                              question  \\\n",
       "0    To whom did the Virgin Mary allegedly appear i...   \n",
       "1    When did the Scholastic Magazine of Notre dame...   \n",
       "2    Where is the headquarters of the Congregation ...   \n",
       "3    How many BS level degrees are offered in the C...   \n",
       "4    What entity provides help with the management ...   \n",
       "..                                                 ...   \n",
       "819  How often did Jehovah Witnesses congregations ...   \n",
       "820               When did NYC buy land for its parks?   \n",
       "821       Who quoted the line of Terence most notably?   \n",
       "822  What is the Kathmandu Valley's average tempera...   \n",
       "823        What religion does Changunarayan belong to?   \n",
       "\n",
       "                                               context  context_id  \\\n",
       "0    Architecturally, the school has a Catholic cha...           0   \n",
       "1    As at most other universities, Notre Dame's st...           1   \n",
       "2    The university is the major seat of the Congre...           2   \n",
       "3    The College of Engineering was established in ...           3   \n",
       "4    All of Notre Dame's undergraduate students are...           4   \n",
       "..                                                 ...         ...   \n",
       "819  Meetings for worship and study are held at Kin...       18479   \n",
       "820  The northern side of the borough includes the ...       18610   \n",
       "821  The ad fontes principle also had many applicat...       18678   \n",
       "822  Five major climatic regions are found in Nepal...       18847   \n",
       "823  The ancient trade route between India and Tibe...       18859   \n",
       "\n",
       "     answer_start                 answer_text  \n",
       "0             515  Saint Bernadette Soubirous  \n",
       "1             248              September 1876  \n",
       "2             119                        Rome  \n",
       "3             487                       eight  \n",
       "4             496    Learning Resource Center  \n",
       "..            ...                         ...  \n",
       "819           779       three times each week  \n",
       "820          1240                        1888  \n",
       "821          1035                      Seneca  \n",
       "822           749                        50.2  \n",
       "823           848                       Hindu  \n",
       "\n",
       "[824 rows x 6 columns]"
      ]
     },
     "execution_count": 6,
     "metadata": {},
     "output_type": "execute_result"
    }
   ],
   "source": [
    "data"
   ]
  },
  {
   "cell_type": "code",
   "execution_count": 7,
   "metadata": {},
   "outputs": [
    {
     "name": "stderr",
     "output_type": "stream",
     "text": [
      "Be aware, overflowing tokens are not returned for the setting you have chosen, i.e. sequence pairs with the 'longest_first' truncation strategy. So the returned list will always be empty even if some tokens have been removed.\n",
      "Be aware, overflowing tokens are not returned for the setting you have chosen, i.e. sequence pairs with the 'longest_first' truncation strategy. So the returned list will always be empty even if some tokens have been removed.\n"
     ]
    }
   ],
   "source": [
    "def encode_data(row):\n",
    "    question = row[\"question\"]\n",
    "    context = row[\"context\"]\n",
    "    inputs = tokenizer(question, context, padding=\"max_length\", max_length=512, truncation=True, return_tensors=\"pt\")\n",
    "    return inputs\n",
    "\n",
    "data[\"encoded_data\"] = data.apply(encode_data, axis=1)"
   ]
  },
  {
   "cell_type": "code",
   "execution_count": 8,
   "metadata": {},
   "outputs": [],
   "source": [
    "data[\"input_ids\"] = data[\"encoded_data\"].apply(lambda x: x[\"input_ids\"])\n",
    "data[\"attention_mask\"] = data[\"encoded_data\"].apply(lambda x: x[\"attention_mask\"])\n",
    "data[\"token_type_ids\"] = data[\"encoded_data\"].apply(lambda x: x.get(\"token_type_ids\"))"
   ]
  },
  {
   "cell_type": "code",
   "execution_count": 9,
   "metadata": {},
   "outputs": [],
   "source": [
    "from torch.utils.data import DataLoader, TensorDataset\n",
    "\n",
    "input_ids = torch.stack(data[\"input_ids\"].tolist())\n",
    "attention_mask = torch.stack(data[\"attention_mask\"].tolist())\n",
    "token_type_ids = torch.stack(data[\"token_type_ids\"].tolist())\n",
    "\n",
    "dataset = TensorDataset(input_ids, attention_mask, token_type_ids)\n",
    "\n",
    "dataloader = DataLoader(dataset, batch_size=16)\n"
   ]
  },
  {
   "cell_type": "code",
   "execution_count": 10,
   "metadata": {},
   "outputs": [
    {
     "name": "stderr",
     "output_type": "stream",
     "text": [
      "Some weights of the model checkpoint at bert-large-uncased-whole-word-masking-finetuned-squad were not used when initializing BertForQuestionAnswering: ['bert.pooler.dense.weight', 'bert.pooler.dense.bias']\n",
      "- This IS expected if you are initializing BertForQuestionAnswering from the checkpoint of a model trained on another task or with another architecture (e.g. initializing a BertForSequenceClassification model from a BertForPreTraining model).\n",
      "- This IS NOT expected if you are initializing BertForQuestionAnswering from the checkpoint of a model that you expect to be exactly identical (initializing a BertForSequenceClassification model from a BertForSequenceClassification model).\n"
     ]
    }
   ],
   "source": [
    "model = BertForQuestionAnswering.from_pretrained(\"bert-large-uncased-whole-word-masking-finetuned-squad\")"
   ]
  },
  {
   "cell_type": "code",
   "execution_count": 11,
   "metadata": {},
   "outputs": [],
   "source": [
    "import torch\n",
    "\n",
    "def answer_question(question, context, model, tokenizer):\n",
    "    inputs = tokenizer(question, context, return_tensors=\"pt\")\n",
    "    with torch.no_grad():\n",
    "        outputs = model(**inputs)\n",
    "    \n",
    "    start_logits = outputs.start_logits\n",
    "    end_logits = outputs.end_logits\n",
    "    \n",
    "    start_idx = torch.argmax(start_logits)\n",
    "    end_idx = torch.argmax(end_logits)\n",
    "    \n",
    "    answer = tokenizer.decode(inputs.input_ids[0][start_idx:end_idx+1])\n",
    "    \n",
    "    return answer"
   ]
  },
  {
   "cell_type": "code",
   "execution_count": 12,
   "metadata": {},
   "outputs": [
    {
     "name": "stdout",
     "output_type": "stream",
     "text": [
      "Answer: the mob might have'whacked'him\n"
     ]
    }
   ],
   "source": [
    "sample_question = \"what did the mob do\"\n",
    "sample_context= \"jfk was a victim of murder, the assasination was long distance, jfk's murder reason is unexplained. the mob might have 'whacked' him maybe but not central intelligence authority\"\n",
    "answer = answer_question(sample_question, sample_context, model, tokenizer)\n",
    "print(\"Answer:\", answer)"
   ]
  },
  {
   "cell_type": "code",
   "execution_count": null,
   "metadata": {},
   "outputs": [],
   "source": []
  }
 ],
 "metadata": {
  "kernelspec": {
   "display_name": "Python 3 (ipykernel)",
   "language": "python",
   "name": "python3"
  },
  "language_info": {
   "codemirror_mode": {
    "name": "ipython",
    "version": 3
   },
   "file_extension": ".py",
   "mimetype": "text/x-python",
   "name": "python",
   "nbconvert_exporter": "python",
   "pygments_lexer": "ipython3",
   "version": "3.10.12"
  }
 },
 "nbformat": 4,
 "nbformat_minor": 2
}
